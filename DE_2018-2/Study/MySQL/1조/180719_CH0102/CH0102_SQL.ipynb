{
 "cells": [
  {
   "cell_type": "markdown",
   "metadata": {},
   "source": [
    "180719 SQL 스터디 / 12기 김지현"
   ]
  },
  {
   "cell_type": "markdown",
   "metadata": {},
   "source": [
    "# CH01. 데이터베이스와 SQL"
   ]
  },
  {
   "cell_type": "markdown",
   "metadata": {},
   "source": [
    "## 01강. 데이터베이스"
   ]
  },
  {
   "cell_type": "markdown",
   "metadata": {},
   "source": [
    "- 컴퓨터 안에 기록되어 있는 모든 것.\n",
    "- 특정 데이터를 찾고 싶을 때 간단히 찾을 수 있도록 정리된 형태\n",
    "- 하드디스크나 플래시메모리(SSD) 같은 비휘발성을 띠는 공간에 저장"
   ]
  },
  {
   "cell_type": "markdown",
   "metadata": {},
   "source": [
    "### 01. 시스템 내의 데이터베이스"
   ]
  },
  {
   "cell_type": "markdown",
   "metadata": {},
   "source": [
    "- 데이터센터의 서버에서 운용하거나, 개인용 컴퓨터나 휴대용 기기에도 저장\n",
    "- 인터넷 예약, 쇼핑몰, 가게의 POS, 휴대폰의 전화번호부 등"
   ]
  },
  {
   "cell_type": "markdown",
   "metadata": {},
   "source": [
    "### 02. DB와 DBMS"
   ]
  },
  {
   "cell_type": "markdown",
   "metadata": {},
   "source": [
    "- DB: DataBase. 저장장치 내 저장된 데이터의 집합\n",
    "- DBMS: DataBase Management System. DB를 관리하기 위한 효율적인 시스템</p>\n",
    "><p> 생산성 : 개발에 필요한 작업을 줄여 생산성 높임 </p>\n",
    "><p> 기능성 : CRUD 제공. 데이터베이스 기능을 유저가 확대할 수도 있어서 유연성도 높음 </p>\n",
    "><p> 신뢰성 : 하드웨어를 여러 대 두어 확장성을 높이고 부하를 분산함; 클러스터 구성, 스케일 아웃</p>\n"
   ]
  },
  {
   "cell_type": "markdown",
   "metadata": {},
   "source": [
    "### 03. 데이터베이스를 조작하는 언어 SQL"
   ]
  },
  {
   "cell_type": "markdown",
   "metadata": {},
   "source": [
    "- 이런 DBMS를 다루기 위한 언어가 SQL이며, 특히 RDBMS(Relational DBMS)에 쓰임"
   ]
  },
  {
   "cell_type": "markdown",
   "metadata": {},
   "source": [
    "- **DDL (Data Definition Language)**\n",
    "<p>: 스키마(데이터 구조)의 정의</p>\n",
    "<p>: 설계된 DB 구조를 DBMS에 입력</p><p></p>\n",
    "- **DML (Data Manipulation Language)**\n",
    "<p>: 데이터를 검색, 삽입, 삭제, 갱신하기 위한 언어</p>"
   ]
  },
  {
   "cell_type": "markdown",
   "metadata": {},
   "source": [
    "---\n",
    "# CH02. 테이블에서 데이터 검색"
   ]
  },
  {
   "cell_type": "raw",
   "metadata": {},
   "source": [
    "SELECT * FROM table1;"
   ]
  },
  {
   "cell_type": "raw",
   "metadata": {},
   "source": [
    "SELECT : 명령문\n",
    "* : 모든 것\n",
    "table1 : 테이블명\n",
    "; : 명령문의 끝"
   ]
  },
  {
   "cell_type": "markdown",
   "metadata": {},
   "source": [
    "- 예약어와 데이터베이스 객체명은 <font color = 'red'>**대소문자 구별을 하지 않는다.**</font>"
   ]
  },
  {
   "cell_type": "markdown",
   "metadata": {},
   "source": [
    "<p>**실습)**</p>\n",
    "https://demo.phpmyadmin.net/master-config/index.php?lang=ko"
   ]
  },
  {
   "cell_type": "raw",
   "metadata": {},
   "source": [
    "CREATE SCHEMA IF NOT EXISTS `mydb` DEFAULT CHARACTER SET utf8 ;\n",
    "USE `mydb` ;\n",
    "\n",
    "DROP TABLE IF EXISTS `mydb`.`Trainer` ;\n",
    "\n",
    "CREATE TABLE IF NOT EXISTS `mydb`.`Trainer` (\n",
    "  `Trainer_No` INT NOT NULL AUTO_INCREMENT,\n",
    "  `Trainer_Name` VARCHAR(45) NOT NULL,\n",
    "  `Trainer_BirthDate` DATE NOT NULL,\n",
    "  `Trainer_Sex` SET('M', 'F') NOT NULL,\n",
    "  `Trainer_Price` INT NOT NULL,\n",
    "  `Trainer_Field` SET('DIET', 'BULK_UP', 'HEALTH_CARE') NOT NULL,\n",
    "  `Trainer_Phone` INT NOT NULL,\n",
    "  PRIMARY KEY (`Trainer_No`),\n",
    "  UNIQUE INDEX `Trainer_Phone_UNIQUE` (`Trainer_Phone` ASC))\n",
    "ENGINE = InnoDB;\n",
    "\n",
    "INSERT INTO `Trainer` VALUES\n",
    "\t(1,'LEE_MYOUNG_JIN','1980-05-04','M',50000,'BULK_UP',01012345678),\n",
    "\t(2,'MO_JUNG_HUN','1975-10-01','M',35000,'HEALTH_CARE',01012123434),\n",
    "\t(3,'PARK_GEUN_HYE','1990-03-12','F',10000,'DIET',01034345656),\n",
    "\t(4,'CHOI_SUN_SIL','1988-09-01','F',15000,'HEALTH_CARE',01056567878),\n",
    "\t(5,'KIM_JIN_NAM','1977-03-23','M',30000,'HEALTH_CARE',01078788989),\n",
    "\t(6,'KIM_TAE_HEE','1986-10-29','F',25000,'DIET',01085852525),\n",
    "\t(7,'PARK_JI_SUNG','1977-01-01','M',30000,'DIET',01074741414),\n",
    "\t(8,'LEE_DONG_GUK','1969-04-04','M',20000,'DIET',01088889999),\n",
    "\t(9,'YOO_SO_YOUNG','1976-07-07','F',40000,'HEALTH_CARE',01096963636),\n",
    "\t(10,'KIM_JIN_PIL','1993-02-14','M',15000,'BULK_UP',01091914646),\n",
    "\t(11,'PARK_SUNG_JIN','1983-02-25','M',20000,'DIET',01073735454),\n",
    "\t(12,'KIM_SE_JUNG','1989-07-08','F',30000,'DIET',01085852516),\n",
    "\t(13,'AHN_SUNG_JUN','1982-01-19','M',20000,'HEALTH_CARE',01098765432),\n",
    "\t(14,'CHOI_YU_JUNG','1990-05-30','F',20000,'DIET',01085214785),\n",
    "\t(15,'KIM_SO_HYE','1985-12-25','F',30000,'DIET',01096587412),\n",
    "\t(16,'KO_SUNG_JUN','1989-11-11','M',10000,'HEALTH_CARE',01032541689),\n",
    "\t(17,'LEE_MUN_SE','1965-04-03','M',20000,'BULK_UP',01033338195),\n",
    "\t(18,'SON_HEUNG_MIN','1987-05-05','M',40000,'BULK_UP',01051624859),\n",
    "\t(19,'KOO_JA_CHEOL','1980-03-09','M',10000,'HEALTH_CARE',01091624873),\n",
    "\t(20,'KI_SEONG_YONG','1979-11-02','M',30000,'HEALTH_CARE',01077771004);\n",
    "\n",
    "SELECT * FROM `Trainer`;"
   ]
  },
  {
   "cell_type": "code",
   "execution_count": null,
   "metadata": {},
   "outputs": [],
   "source": []
  }
 ],
 "metadata": {
  "kernelspec": {
   "display_name": "Python 3",
   "language": "python",
   "name": "python3"
  },
  "language_info": {
   "codemirror_mode": {
    "name": "ipython",
    "version": 3
   },
   "file_extension": ".py",
   "mimetype": "text/x-python",
   "name": "python",
   "nbconvert_exporter": "python",
   "pygments_lexer": "ipython3",
   "version": "3.6.2"
  }
 },
 "nbformat": 4,
 "nbformat_minor": 2
}
